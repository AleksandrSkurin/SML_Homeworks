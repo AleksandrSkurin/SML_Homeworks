{
 "cells": [
  {
   "cell_type": "code",
   "execution_count": 1,
   "id": "6d6c75ca",
   "metadata": {},
   "outputs": [],
   "source": [
    "# Exercise 2.2\n",
    "# a) The type of the problem is regression, because respose we are looking for is quantitative. \n",
    "# Inference\n",
    "# n = 500\n",
    "# p = 4\n",
    "# b) The type of the problem is classification, because response is binary.\n",
    "# Prediction\n",
    "# n = 20\n",
    "# p = 14\n",
    "# c) The type of the problem is regression, because respose we are looking for is quantitative.  \n",
    "# Prediction\n",
    "# n = 52\n",
    "# p = 4\n"
   ]
  },
  {
   "cell_type": "code",
   "execution_count": 2,
   "id": "a4d32335",
   "metadata": {},
   "outputs": [
    {
     "data": {
      "text/html": [
       "<style>\n",
       ".list-inline {list-style: none; margin:0; padding: 0}\n",
       ".list-inline>li {display: inline-block}\n",
       ".list-inline>li:not(:last-child)::after {content: \"\\00b7\"; padding: 0 .5ex}\n",
       "</style>\n",
       "<ol class=list-inline><li>506</li><li>14</li></ol>\n"
      ],
      "text/latex": [
       "\\begin{enumerate*}\n",
       "\\item 506\n",
       "\\item 14\n",
       "\\end{enumerate*}\n"
      ],
      "text/markdown": [
       "1. 506\n",
       "2. 14\n",
       "\n",
       "\n"
      ],
      "text/plain": [
       "[1] 506  14"
      ]
     },
     "metadata": {},
     "output_type": "display_data"
    }
   ],
   "source": [
    "# Exercise 2.10\n",
    "# a)\n",
    "library(MASS)\n",
    "\n",
    "?Boston\n",
    "\n",
    "dim(Boston)"
   ]
  },
  {
   "cell_type": "code",
   "execution_count": 3,
   "id": "0eaa2ea9",
   "metadata": {},
   "outputs": [
    {
     "data": {
      "image/png": "[encoded data removed]",
      "text/plain": [
       "plot without title"
      ]
     },
     "metadata": {
      "image/png": {
       "height": 420,
       "width": 420
      }
     },
     "output_type": "display_data"
    }
   ],
   "source": [
    "# b)\n",
    "pairs(~crim+nox+dis+tax+medv, data = Boston)"
   ]
  },
  {
   "cell_type": "code",
   "execution_count": 4,
   "id": "900e5e2b",
   "metadata": {},
   "outputs": [
    {
     "data": {
      "text/html": [
       "-0.385063941994224"
      ],
      "text/latex": [
       "-0.385063941994224"
      ],
      "text/markdown": [
       "-0.385063941994224"
      ],
      "text/plain": [
       "[1] -0.3850639"
      ]
     },
     "metadata": {},
     "output_type": "display_data"
    },
    {
     "data": {
      "text/html": [
       "0.455621479447946"
      ],
      "text/latex": [
       "0.455621479447946"
      ],
      "text/markdown": [
       "0.455621479447946"
      ],
      "text/plain": [
       "[1] 0.4556215"
      ]
     },
     "metadata": {},
     "output_type": "display_data"
    },
    {
     "data": {
      "text/html": [
       "0.625505145262602"
      ],
      "text/latex": [
       "0.625505145262602"
      ],
      "text/markdown": [
       "0.625505145262602"
      ],
      "text/plain": [
       "[1] 0.6255051"
      ]
     },
     "metadata": {},
     "output_type": "display_data"
    }
   ],
   "source": [
    "# c)\n",
    "cor(Boston$crim, Boston$black) #negative corr.\n",
    "cor(Boston$crim, Boston$lstat) #positive corr.\n",
    "cor(Boston$crim, Boston$rad) #strong positive corr."
   ]
  },
  {
   "cell_type": "code",
   "execution_count": 5,
   "id": "f6b2b9b5",
   "metadata": {},
   "outputs": [],
   "source": [
    "# d) 16 suburbs with high crime rates. There are no suburbs with high tax and pupil-teacher rate."
   ]
  },
  {
   "cell_type": "code",
   "execution_count": 5,
   "id": "68290d3a",
   "metadata": {},
   "outputs": [
    {
     "data": {
      "text/plain": [
       "\n",
       "  0   1 \n",
       "471  35 "
      ]
     },
     "metadata": {},
     "output_type": "display_data"
    }
   ],
   "source": [
    "# e)\n",
    "bound <- table(Boston$chas)\n",
    "bound"
   ]
  },
  {
   "cell_type": "code",
   "execution_count": 6,
   "id": "d6a87480",
   "metadata": {},
   "outputs": [
    {
     "data": {
      "text/html": [
       "19.05"
      ],
      "text/latex": [
       "19.05"
      ],
      "text/markdown": [
       "19.05"
      ],
      "text/plain": [
       "[1] 19.05"
      ]
     },
     "metadata": {},
     "output_type": "display_data"
    }
   ],
   "source": [
    "# f)\n",
    "m <- median(Boston$ptratio)\n",
    "m"
   ]
  },
  {
   "cell_type": "code",
   "execution_count": 7,
   "id": "693c4984",
   "metadata": {},
   "outputs": [
    {
     "data": {
      "text/html": [
       "<style>\n",
       ".list-inline {list-style: none; margin:0; padding: 0}\n",
       ".list-inline>li {display: inline-block}\n",
       ".list-inline>li:not(:last-child)::after {content: \"\\00b7\"; padding: 0 .5ex}\n",
       "</style>\n",
       "<ol class=list-inline><li>399</li><li>406</li></ol>\n"
      ],
      "text/latex": [
       "\\begin{enumerate*}\n",
       "\\item 399\n",
       "\\item 406\n",
       "\\end{enumerate*}\n"
      ],
      "text/markdown": [
       "1. 399\n",
       "2. 406\n",
       "\n",
       "\n"
      ],
      "text/plain": [
       "[1] 399 406"
      ]
     },
     "metadata": {},
     "output_type": "display_data"
    }
   ],
   "source": [
    "# g)\n",
    "which(Boston$medv == min(Boston$medv))"
   ]
  },
  {
   "cell_type": "code",
   "execution_count": 8,
   "id": "6022593d",
   "metadata": {},
   "outputs": [
    {
     "data": {
      "text/html": [
       "<table class=\"dataframe\">\n",
       "<caption>A data.frame: 1 × 14</caption>\n",
       "<thead>\n",
       "\t<tr><th></th><th scope=col>crim</th><th scope=col>zn</th><th scope=col>indus</th><th scope=col>chas</th><th scope=col>nox</th><th scope=col>rm</th><th scope=col>age</th><th scope=col>dis</th><th scope=col>rad</th><th scope=col>tax</th><th scope=col>ptratio</th><th scope=col>black</th><th scope=col>lstat</th><th scope=col>medv</th></tr>\n",
       "\t<tr><th></th><th scope=col>&lt;dbl&gt;</th><th scope=col>&lt;dbl&gt;</th><th scope=col>&lt;dbl&gt;</th><th scope=col>&lt;int&gt;</th><th scope=col>&lt;dbl&gt;</th><th scope=col>&lt;dbl&gt;</th><th scope=col>&lt;dbl&gt;</th><th scope=col>&lt;dbl&gt;</th><th scope=col>&lt;int&gt;</th><th scope=col>&lt;dbl&gt;</th><th scope=col>&lt;dbl&gt;</th><th scope=col>&lt;dbl&gt;</th><th scope=col>&lt;dbl&gt;</th><th scope=col>&lt;dbl&gt;</th></tr>\n",
       "</thead>\n",
       "<tbody>\n",
       "\t<tr><th scope=row>399</th><td>38.3518</td><td>0</td><td>18.1</td><td>0</td><td>0.693</td><td>5.453</td><td>100</td><td>1.4896</td><td>24</td><td>666</td><td>20.2</td><td>396.9</td><td>30.59</td><td>5</td></tr>\n",
       "</tbody>\n",
       "</table>\n"
      ],
      "text/latex": [
       "A data.frame: 1 × 14\n",
       "\\begin{tabular}{r|llllllllllllll}\n",
       "  & crim & zn & indus & chas & nox & rm & age & dis & rad & tax & ptratio & black & lstat & medv\\\\\n",
       "  & <dbl> & <dbl> & <dbl> & <int> & <dbl> & <dbl> & <dbl> & <dbl> & <int> & <dbl> & <dbl> & <dbl> & <dbl> & <dbl>\\\\\n",
       "\\hline\n",
       "\t399 & 38.3518 & 0 & 18.1 & 0 & 0.693 & 5.453 & 100 & 1.4896 & 24 & 666 & 20.2 & 396.9 & 30.59 & 5\\\\\n",
       "\\end{tabular}\n"
      ],
      "text/markdown": [
       "\n",
       "A data.frame: 1 × 14\n",
       "\n",
       "| <!--/--> | crim &lt;dbl&gt; | zn &lt;dbl&gt; | indus &lt;dbl&gt; | chas &lt;int&gt; | nox &lt;dbl&gt; | rm &lt;dbl&gt; | age &lt;dbl&gt; | dis &lt;dbl&gt; | rad &lt;int&gt; | tax &lt;dbl&gt; | ptratio &lt;dbl&gt; | black &lt;dbl&gt; | lstat &lt;dbl&gt; | medv &lt;dbl&gt; |\n",
       "|---|---|---|---|---|---|---|---|---|---|---|---|---|---|---|\n",
       "| 399 | 38.3518 | 0 | 18.1 | 0 | 0.693 | 5.453 | 100 | 1.4896 | 24 | 666 | 20.2 | 396.9 | 30.59 | 5 |\n",
       "\n"
      ],
      "text/plain": [
       "    crim    zn indus chas nox   rm    age dis    rad tax ptratio black lstat\n",
       "399 38.3518 0  18.1  0    0.693 5.453 100 1.4896 24  666 20.2    396.9 30.59\n",
       "    medv\n",
       "399 5   "
      ]
     },
     "metadata": {},
     "output_type": "display_data"
    }
   ],
   "source": [
    "Boston[399,]"
   ]
  },
  {
   "cell_type": "code",
   "execution_count": 9,
   "id": "14f2e214",
   "metadata": {},
   "outputs": [
    {
     "data": {
      "text/html": [
       "<style>\n",
       ".list-inline {list-style: none; margin:0; padding: 0}\n",
       ".list-inline>li {display: inline-block}\n",
       ".list-inline>li:not(:last-child)::after {content: \"\\00b7\"; padding: 0 .5ex}\n",
       "</style>\n",
       "<ol class=list-inline><li>1.73</li><li>37.97</li></ol>\n"
      ],
      "text/latex": [
       "\\begin{enumerate*}\n",
       "\\item 1.73\n",
       "\\item 37.97\n",
       "\\end{enumerate*}\n"
      ],
      "text/markdown": [
       "1. 1.73\n",
       "2. 37.97\n",
       "\n",
       "\n"
      ],
      "text/plain": [
       "[1]  1.73 37.97"
      ]
     },
     "metadata": {},
     "output_type": "display_data"
    },
    {
     "data": {
      "text/html": [
       "<style>\n",
       ".list-inline {list-style: none; margin:0; padding: 0}\n",
       ".list-inline>li {display: inline-block}\n",
       ".list-inline>li:not(:last-child)::after {content: \"\\00b7\"; padding: 0 .5ex}\n",
       "</style>\n",
       "<ol class=list-inline><li>12.6</li><li>22</li></ol>\n"
      ],
      "text/latex": [
       "\\begin{enumerate*}\n",
       "\\item 12.6\n",
       "\\item 22\n",
       "\\end{enumerate*}\n"
      ],
      "text/markdown": [
       "1. 12.6\n",
       "2. 22\n",
       "\n",
       "\n"
      ],
      "text/plain": [
       "[1] 12.6 22.0"
      ]
     },
     "metadata": {},
     "output_type": "display_data"
    }
   ],
   "source": [
    "range(Boston$lstat)\n",
    "range(Boston$ptratio)"
   ]
  },
  {
   "cell_type": "code",
   "execution_count": 10,
   "id": "c701def1",
   "metadata": {
    "scrolled": true
   },
   "outputs": [
    {
     "data": {
      "text/html": [
       "64"
      ],
      "text/latex": [
       "64"
      ],
      "text/markdown": [
       "64"
      ],
      "text/plain": [
       "[1] 64"
      ]
     },
     "metadata": {},
     "output_type": "display_data"
    },
    {
     "data": {
      "text/html": [
       "13"
      ],
      "text/latex": [
       "13"
      ],
      "text/markdown": [
       "13"
      ],
      "text/plain": [
       "[1] 13"
      ]
     },
     "metadata": {},
     "output_type": "display_data"
    },
    {
     "data": {
      "text/plain": [
       "      crim                zn             indus            chas        \n",
       " Min.   : 0.00632   Min.   :  0.00   Min.   : 0.46   Min.   :0.00000  \n",
       " 1st Qu.: 0.08205   1st Qu.:  0.00   1st Qu.: 5.19   1st Qu.:0.00000  \n",
       " Median : 0.25651   Median :  0.00   Median : 9.69   Median :0.00000  \n",
       " Mean   : 3.61352   Mean   : 11.36   Mean   :11.14   Mean   :0.06917  \n",
       " 3rd Qu.: 3.67708   3rd Qu.: 12.50   3rd Qu.:18.10   3rd Qu.:0.00000  \n",
       " Max.   :88.97620   Max.   :100.00   Max.   :27.74   Max.   :1.00000  \n",
       "      nox               rm             age              dis        \n",
       " Min.   :0.3850   Min.   :3.561   Min.   :  2.90   Min.   : 1.130  \n",
       " 1st Qu.:0.4490   1st Qu.:5.886   1st Qu.: 45.02   1st Qu.: 2.100  \n",
       " Median :0.5380   Median :6.208   Median : 77.50   Median : 3.207  \n",
       " Mean   :0.5547   Mean   :6.285   Mean   : 68.57   Mean   : 3.795  \n",
       " 3rd Qu.:0.6240   3rd Qu.:6.623   3rd Qu.: 94.08   3rd Qu.: 5.188  \n",
       " Max.   :0.8710   Max.   :8.780   Max.   :100.00   Max.   :12.127  \n",
       "      rad              tax           ptratio          black       \n",
       " Min.   : 1.000   Min.   :187.0   Min.   :12.60   Min.   :  0.32  \n",
       " 1st Qu.: 4.000   1st Qu.:279.0   1st Qu.:17.40   1st Qu.:375.38  \n",
       " Median : 5.000   Median :330.0   Median :19.05   Median :391.44  \n",
       " Mean   : 9.549   Mean   :408.2   Mean   :18.46   Mean   :356.67  \n",
       " 3rd Qu.:24.000   3rd Qu.:666.0   3rd Qu.:20.20   3rd Qu.:396.23  \n",
       " Max.   :24.000   Max.   :711.0   Max.   :22.00   Max.   :396.90  \n",
       "     lstat            medv      \n",
       " Min.   : 1.73   Min.   : 5.00  \n",
       " 1st Qu.: 6.95   1st Qu.:17.02  \n",
       " Median :11.36   Median :21.20  \n",
       " Mean   :12.65   Mean   :22.53  \n",
       " 3rd Qu.:16.95   3rd Qu.:25.00  \n",
       " Max.   :37.97   Max.   :50.00  "
      ]
     },
     "metadata": {},
     "output_type": "display_data"
    },
    {
     "data": {
      "text/plain": [
       "      crim               zn            indus             chas       \n",
       " Min.   :0.02009   Min.   : 0.00   Min.   : 2.680   Min.   :0.0000  \n",
       " 1st Qu.:0.33147   1st Qu.: 0.00   1st Qu.: 3.970   1st Qu.:0.0000  \n",
       " Median :0.52014   Median : 0.00   Median : 6.200   Median :0.0000  \n",
       " Mean   :0.71879   Mean   :13.62   Mean   : 7.078   Mean   :0.1538  \n",
       " 3rd Qu.:0.57834   3rd Qu.:20.00   3rd Qu.: 6.200   3rd Qu.:0.0000  \n",
       " Max.   :3.47428   Max.   :95.00   Max.   :19.580   Max.   :1.0000  \n",
       "      nox               rm             age             dis       \n",
       " Min.   :0.4161   Min.   :8.034   Min.   : 8.40   Min.   :1.801  \n",
       " 1st Qu.:0.5040   1st Qu.:8.247   1st Qu.:70.40   1st Qu.:2.288  \n",
       " Median :0.5070   Median :8.297   Median :78.30   Median :2.894  \n",
       " Mean   :0.5392   Mean   :8.349   Mean   :71.54   Mean   :3.430  \n",
       " 3rd Qu.:0.6050   3rd Qu.:8.398   3rd Qu.:86.50   3rd Qu.:3.652  \n",
       " Max.   :0.7180   Max.   :8.780   Max.   :93.90   Max.   :8.907  \n",
       "      rad              tax           ptratio          black      \n",
       " Min.   : 2.000   Min.   :224.0   Min.   :13.00   Min.   :354.6  \n",
       " 1st Qu.: 5.000   1st Qu.:264.0   1st Qu.:14.70   1st Qu.:384.5  \n",
       " Median : 7.000   Median :307.0   Median :17.40   Median :386.9  \n",
       " Mean   : 7.462   Mean   :325.1   Mean   :16.36   Mean   :385.2  \n",
       " 3rd Qu.: 8.000   3rd Qu.:307.0   3rd Qu.:17.40   3rd Qu.:389.7  \n",
       " Max.   :24.000   Max.   :666.0   Max.   :20.20   Max.   :396.9  \n",
       "     lstat           medv     \n",
       " Min.   :2.47   Min.   :21.9  \n",
       " 1st Qu.:3.32   1st Qu.:41.7  \n",
       " Median :4.14   Median :48.3  \n",
       " Mean   :4.31   Mean   :44.2  \n",
       " 3rd Qu.:5.12   3rd Qu.:50.0  \n",
       " Max.   :7.44   Max.   :50.0  "
      ]
     },
     "metadata": {},
     "output_type": "display_data"
    }
   ],
   "source": [
    "# h)\n",
    "\n",
    "sum(Boston$rm > 7)\n",
    "\n",
    "sum(Boston$rm > 8)\n",
    "\n",
    "summary(Boston)\n",
    "summary(subset(Boston, rm > 8))"
   ]
  },
  {
   "cell_type": "code",
   "execution_count": null,
   "id": "289b7c29",
   "metadata": {},
   "outputs": [],
   "source": [
    "# Exercise 3.3\n",
    "# a) iii is True, because males earn more with GPA higher than 3.5\n",
    "# b) 137000\n",
    "# c) False, there are cases when it matters"
   ]
  },
  {
   "cell_type": "code",
   "execution_count": null,
   "id": "376e83af",
   "metadata": {},
   "outputs": [],
   "source": [
    "# Exercise 3.10\n",
    "# a)\n",
    "\n"
   ]
  },
  {
   "cell_type": "code",
   "execution_count": null,
   "id": "f76a508c",
   "metadata": {},
   "outputs": [],
   "source": [
    "# b) \n",
    "# The intercept is the number seats average sold.\n",
    "# The Price is negative coefficient.\n",
    "# The Urban=Yes is not statistically significant coefficient. "
   ]
  },
  {
   "cell_type": "code",
   "execution_count": 15,
   "id": "42bdcb2f",
   "metadata": {},
   "outputs": [
    {
     "data": {
      "text/plain": [
       "      crim                zn             indus            chas        \n",
       " Min.   : 0.00632   Min.   :  0.00   Min.   : 0.46   Min.   :0.00000  \n",
       " 1st Qu.: 0.08205   1st Qu.:  0.00   1st Qu.: 5.19   1st Qu.:0.00000  \n",
       " Median : 0.25651   Median :  0.00   Median : 9.69   Median :0.00000  \n",
       " Mean   : 3.61352   Mean   : 11.36   Mean   :11.14   Mean   :0.06917  \n",
       " 3rd Qu.: 3.67708   3rd Qu.: 12.50   3rd Qu.:18.10   3rd Qu.:0.00000  \n",
       " Max.   :88.97620   Max.   :100.00   Max.   :27.74   Max.   :1.00000  \n",
       "      nox               rm             age              dis        \n",
       " Min.   :0.3850   Min.   :3.561   Min.   :  2.90   Min.   : 1.130  \n",
       " 1st Qu.:0.4490   1st Qu.:5.886   1st Qu.: 45.02   1st Qu.: 2.100  \n",
       " Median :0.5380   Median :6.208   Median : 77.50   Median : 3.207  \n",
       " Mean   :0.5547   Mean   :6.285   Mean   : 68.57   Mean   : 3.795  \n",
       " 3rd Qu.:0.6240   3rd Qu.:6.623   3rd Qu.: 94.08   3rd Qu.: 5.188  \n",
       " Max.   :0.8710   Max.   :8.780   Max.   :100.00   Max.   :12.127  \n",
       "      rad              tax           ptratio          black       \n",
       " Min.   : 1.000   Min.   :187.0   Min.   :12.60   Min.   :  0.32  \n",
       " 1st Qu.: 4.000   1st Qu.:279.0   1st Qu.:17.40   1st Qu.:375.38  \n",
       " Median : 5.000   Median :330.0   Median :19.05   Median :391.44  \n",
       " Mean   : 9.549   Mean   :408.2   Mean   :18.46   Mean   :356.67  \n",
       " 3rd Qu.:24.000   3rd Qu.:666.0   3rd Qu.:20.20   3rd Qu.:396.23  \n",
       " Max.   :24.000   Max.   :711.0   Max.   :22.00   Max.   :396.90  \n",
       "     lstat            medv      \n",
       " Min.   : 1.73   Min.   : 5.00  \n",
       " 1st Qu.: 6.95   1st Qu.:17.02  \n",
       " Median :11.36   Median :21.20  \n",
       " Mean   :12.65   Mean   :22.53  \n",
       " 3rd Qu.:16.95   3rd Qu.:25.00  \n",
       " Max.   :37.97   Max.   :50.00  "
      ]
     },
     "metadata": {},
     "output_type": "display_data"
    },
    {
     "data": {
      "text/html": [
       "<table class=\"dataframe\">\n",
       "<caption>A data.frame: 13 × 2</caption>\n",
       "<thead>\n",
       "\t<tr><th></th><th scope=col>p_values</th><th scope=col>coefficients</th></tr>\n",
       "\t<tr><th></th><th scope=col>&lt;dbl&gt;</th><th scope=col>&lt;dbl&gt;</th></tr>\n",
       "</thead>\n",
       "<tbody>\n",
       "\t<tr><th scope=row>zn</th><td>5.506472e-06</td><td>-0.07393498</td></tr>\n",
       "\t<tr><th scope=row>indus</th><td>1.450349e-21</td><td> 0.50977633</td></tr>\n",
       "\t<tr><th scope=row>chas</th><td>2.094345e-01</td><td>-1.89277655</td></tr>\n",
       "\t<tr><th scope=row>nox</th><td>3.751739e-23</td><td>31.24853120</td></tr>\n",
       "\t<tr><th scope=row>rm</th><td>6.346703e-07</td><td>-2.68405122</td></tr>\n",
       "\t<tr><th scope=row>age</th><td>2.854869e-16</td><td> 0.10778623</td></tr>\n",
       "\t<tr><th scope=row>dis</th><td>8.519949e-19</td><td>-1.55090168</td></tr>\n",
       "\t<tr><th scope=row>rad</th><td>2.693844e-56</td><td> 0.61791093</td></tr>\n",
       "\t<tr><th scope=row>tax</th><td>2.357127e-47</td><td> 0.02974225</td></tr>\n",
       "\t<tr><th scope=row>ptratio</th><td>2.942922e-11</td><td> 1.15198279</td></tr>\n",
       "\t<tr><th scope=row>black</th><td>2.487274e-19</td><td>-0.03627964</td></tr>\n",
       "\t<tr><th scope=row>lstat</th><td>2.654277e-27</td><td> 0.54880478</td></tr>\n",
       "\t<tr><th scope=row>medv</th><td>1.173987e-19</td><td>-0.36315992</td></tr>\n",
       "</tbody>\n",
       "</table>\n"
      ],
      "text/latex": [
       "A data.frame: 13 × 2\n",
       "\\begin{tabular}{r|ll}\n",
       "  & p\\_values & coefficients\\\\\n",
       "  & <dbl> & <dbl>\\\\\n",
       "\\hline\n",
       "\tzn & 5.506472e-06 & -0.07393498\\\\\n",
       "\tindus & 1.450349e-21 &  0.50977633\\\\\n",
       "\tchas & 2.094345e-01 & -1.89277655\\\\\n",
       "\tnox & 3.751739e-23 & 31.24853120\\\\\n",
       "\trm & 6.346703e-07 & -2.68405122\\\\\n",
       "\tage & 2.854869e-16 &  0.10778623\\\\\n",
       "\tdis & 8.519949e-19 & -1.55090168\\\\\n",
       "\trad & 2.693844e-56 &  0.61791093\\\\\n",
       "\ttax & 2.357127e-47 &  0.02974225\\\\\n",
       "\tptratio & 2.942922e-11 &  1.15198279\\\\\n",
       "\tblack & 2.487274e-19 & -0.03627964\\\\\n",
       "\tlstat & 2.654277e-27 &  0.54880478\\\\\n",
       "\tmedv & 1.173987e-19 & -0.36315992\\\\\n",
       "\\end{tabular}\n"
      ],
      "text/markdown": [
       "\n",
       "A data.frame: 13 × 2\n",
       "\n",
       "| <!--/--> | p_values &lt;dbl&gt; | coefficients &lt;dbl&gt; |\n",
       "|---|---|---|\n",
       "| zn | 5.506472e-06 | -0.07393498 |\n",
       "| indus | 1.450349e-21 |  0.50977633 |\n",
       "| chas | 2.094345e-01 | -1.89277655 |\n",
       "| nox | 3.751739e-23 | 31.24853120 |\n",
       "| rm | 6.346703e-07 | -2.68405122 |\n",
       "| age | 2.854869e-16 |  0.10778623 |\n",
       "| dis | 8.519949e-19 | -1.55090168 |\n",
       "| rad | 2.693844e-56 |  0.61791093 |\n",
       "| tax | 2.357127e-47 |  0.02974225 |\n",
       "| ptratio | 2.942922e-11 |  1.15198279 |\n",
       "| black | 2.487274e-19 | -0.03627964 |\n",
       "| lstat | 2.654277e-27 |  0.54880478 |\n",
       "| medv | 1.173987e-19 | -0.36315992 |\n",
       "\n"
      ],
      "text/plain": [
       "        p_values     coefficients\n",
       "zn      5.506472e-06 -0.07393498 \n",
       "indus   1.450349e-21  0.50977633 \n",
       "chas    2.094345e-01 -1.89277655 \n",
       "nox     3.751739e-23 31.24853120 \n",
       "rm      6.346703e-07 -2.68405122 \n",
       "age     2.854869e-16  0.10778623 \n",
       "dis     8.519949e-19 -1.55090168 \n",
       "rad     2.693844e-56  0.61791093 \n",
       "tax     2.357127e-47  0.02974225 \n",
       "ptratio 2.942922e-11  1.15198279 \n",
       "black   2.487274e-19 -0.03627964 \n",
       "lstat   2.654277e-27  0.54880478 \n",
       "medv    1.173987e-19 -0.36315992 "
      ]
     },
     "metadata": {},
     "output_type": "display_data"
    },
    {
     "name": "stderr",
     "output_type": "stream",
     "text": [
      "The following objects are masked from Boston (pos = 3):\n",
      "\n",
      "    age, black, chas, crim, dis, indus, lstat, medv, nox, ptratio, rad,\n",
      "    rm, tax, zn\n",
      "\n",
      "\n",
      "The following objects are masked from Boston (pos = 4):\n",
      "\n",
      "    age, black, chas, crim, dis, indus, lstat, medv, nox, ptratio, rad,\n",
      "    rm, tax, zn\n",
      "\n",
      "\n"
     ]
    },
    {
     "data": {
      "image/png": "[encoded data removed]",
      "text/plain": [
       "Plot with title \"crim vs ptratio\""
      ]
     },
     "metadata": {
      "image/png": {
       "height": 420,
       "width": 420
      }
     },
     "output_type": "display_data"
    },
    {
     "data": {
      "image/png": "[encoded data removed]",
      "text/plain": [
       "Plot with title \"crim vs dis\""
      ]
     },
     "metadata": {
      "image/png": {
       "height": 420,
       "width": 420
      }
     },
     "output_type": "display_data"
    }
   ],
   "source": [
    "# Exercise 3.15\n",
    "# a)\n",
    "library(MASS)\n",
    "summary(Boston)\n",
    "\n",
    "l.zn = lm(crim~zn, data=Boston)\n",
    "l.indus = lm(crim~indus, data=Boston)\n",
    "l.chas = lm(crim~chas, data=Boston)\n",
    "l.nox = lm(crim~nox, data=Boston)\n",
    "l.rm = lm(crim~rm, data=Boston)\n",
    "l.age = lm(crim~age, data=Boston)\n",
    "l.dis = lm(crim~dis, data=Boston)\n",
    "l.rad = lm(crim~rad, data=Boston)\n",
    "l.tax = lm(crim~tax, data=Boston)\n",
    "l.ptratio = lm(crim~ptratio, data=Boston)\n",
    "l.black = lm(crim~black, data=Boston)\n",
    "l.lstat = lm(crim~lstat, data=Boston)\n",
    "l.medv = lm(crim~medv, data=Boston)\n",
    "\n",
    "df_pvalues = data.frame(\"p_values\"= NA[1:13])\n",
    "df_pvalues$coefficients = NA\n",
    "\n",
    "row.names(df_pvalues) = names(Boston[2:14])\n",
    "\n",
    "for (i in 1: 13){\n",
    "   l_str = str2lang(paste(\"l\",row.names(df_pvalues)[i], sep=\".\"))\n",
    "   df_pvalues[i,1]= summary(eval(l_str))$coefficients[2,4]\n",
    "   df_pvalues[i,2]= summary(eval(l_str))$coefficients[2,1]\n",
    "   }\n",
    "df_pvalues\n",
    "\n",
    "attach(Boston)\n",
    "plot(ptratio,crim, main=\"crim vs ptratio\")\n",
    "abline(l.ptratio, lwd =3, col =\"blue\")\n",
    "plot(dis,crim, main=\"crim vs dis\")\n",
    "abline(l.dis, lwd =3, col =\"blue\")"
   ]
  },
  {
   "cell_type": "code",
   "execution_count": 13,
   "id": "448d8f86",
   "metadata": {},
   "outputs": [
    {
     "data": {
      "text/plain": [
       "\n",
       "Call:\n",
       "lm(formula = crim ~ ., data = Boston)\n",
       "\n",
       "Residuals:\n",
       "   Min     1Q Median     3Q    Max \n",
       "-9.924 -2.120 -0.353  1.019 75.051 \n",
       "\n",
       "Coefficients:\n",
       "              Estimate Std. Error t value Pr(>|t|)    \n",
       "(Intercept)  17.033228   7.234903   2.354 0.018949 *  \n",
       "zn            0.044855   0.018734   2.394 0.017025 *  \n",
       "indus        -0.063855   0.083407  -0.766 0.444294    \n",
       "chas         -0.749134   1.180147  -0.635 0.525867    \n",
       "nox         -10.313535   5.275536  -1.955 0.051152 .  \n",
       "rm            0.430131   0.612830   0.702 0.483089    \n",
       "age           0.001452   0.017925   0.081 0.935488    \n",
       "dis          -0.987176   0.281817  -3.503 0.000502 ***\n",
       "rad           0.588209   0.088049   6.680 6.46e-11 ***\n",
       "tax          -0.003780   0.005156  -0.733 0.463793    \n",
       "ptratio      -0.271081   0.186450  -1.454 0.146611    \n",
       "black        -0.007538   0.003673  -2.052 0.040702 *  \n",
       "lstat         0.126211   0.075725   1.667 0.096208 .  \n",
       "medv         -0.198887   0.060516  -3.287 0.001087 ** \n",
       "---\n",
       "Signif. codes:  0 '***' 0.001 '**' 0.01 '*' 0.05 '.' 0.1 ' ' 1\n",
       "\n",
       "Residual standard error: 6.439 on 492 degrees of freedom\n",
       "Multiple R-squared:  0.454,\tAdjusted R-squared:  0.4396 \n",
       "F-statistic: 31.47 on 13 and 492 DF,  p-value: < 2.2e-16\n"
      ]
     },
     "metadata": {},
     "output_type": "display_data"
    },
    {
     "data": {
      "image/png": "[encoded data removed]",
      "text/plain": [
       "plot without title"
      ]
     },
     "metadata": {
      "image/png": {
       "height": 420,
       "width": 420
      }
     },
     "output_type": "display_data"
    }
   ],
   "source": [
    "# b)\n",
    "\n",
    "l.all = lm(crim~., data=Boston)\n",
    "summary(l.all)\n",
    "\n",
    "df_coefs = data.frame(\"multi_coefs\"=summary(l.all)$coef[-1,1])\n",
    "df_coefs$simple_coefs = NA \n",
    "\n",
    "for(i in row.names(df_coefs)){\n",
    "    reg_model =  lm(crim~eval(str2lang(i)), data=Boston)\n",
    "    df_coefs[row.names(df_coefs)==i, \"simple_coefs\"] = coef(reg_model)[2] \n",
    "}\n",
    "\n",
    "plot(df_coefs$simple_coefs, df_coefs$multi_coefs)"
   ]
  }
 ],
 "metadata": {
  "kernelspec": {
   "display_name": "R",
   "language": "R",
   "name": "ir"
  },
  "language_info": {
   "codemirror_mode": "r",
   "file_extension": ".r",
   "mimetype": "text/x-r-source",
   "name": "R",
   "pygments_lexer": "r",
   "version": "4.0.5"
  }
 },
 "nbformat": 4,
 "nbformat_minor": 5
}
