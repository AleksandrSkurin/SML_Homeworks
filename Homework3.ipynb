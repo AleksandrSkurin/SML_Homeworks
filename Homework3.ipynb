{
 "cells": [
  {
   "cell_type": "code",
   "execution_count": null,
   "id": "dc046c76",
   "metadata": {},
   "outputs": [],
   "source": [
    "# Exercise 5.3\n",
    "# a)  \n",
    "# \n",
    "# For k-fold cross validation we randomly divide training set into k groups of approximately equal size. The first fold is \n",
    "# considered as the validation set and the model is fit on the remaining k-1 groups.\n",
    "# The MSE is calculated using the validation set. This procedure is repeated k times and on each time the combination of  \n",
    "# the validation set and training set is different. We then take the average of all the MSE's as the final MSE. \n",
    "# \n",
    "# b) \n",
    "# \n",
    "# i. There is less variance in test error estimate and more accurate test error, because entire dataset is used.\n",
    "  \n",
    "# ii. There is computational advantage, since less computing resources are required. \n",
    "# With k equl to 10, only 10 models need to be fitted, when with LOOCV n models need fitting, \n",
    "# which can be sometimes a very big amount. The bias is higher than in LOOCV, as fewer observations are used, \n",
    "# but it tends to have lower variance. With k equal to 5 or 10 gives a test error estimate \n",
    "# that has neither high bias or variance, and so tends to give more accurate estimates in general."
   ]
  },
  {
   "cell_type": "code",
   "execution_count": null,
   "id": "a5fb88ca",
   "metadata": {},
   "outputs": [],
   "source": [
    "# Exercise 5.8"
   ]
  },
  {
   "cell_type": "code",
   "execution_count": 1,
   "id": "50b3fdf4",
   "metadata": {},
   "outputs": [],
   "source": [
    "# a)\n",
    "\n",
    "set.seed(1)\n",
    "x=rnorm(100)\n",
    "y=x-2*x^2+rnorm (100)"
   ]
  },
  {
   "cell_type": "code",
   "execution_count": 2,
   "id": "03a2f33e",
   "metadata": {},
   "outputs": [
    {
     "data": {
      "image/png": "[encoded data removed]",
      "text/plain": [
       "plot without title"
      ]
     },
     "metadata": {
      "image/png": {
       "height": 420,
       "width": 420
      }
     },
     "output_type": "display_data"
    }
   ],
   "source": [
    "# b)\n",
    "\n",
    "plot(x,y)"
   ]
  },
  {
   "cell_type": "code",
   "execution_count": 6,
   "id": "8faa79ca",
   "metadata": {},
   "outputs": [],
   "source": [
    "library(boot)"
   ]
  },
  {
   "cell_type": "code",
   "execution_count": 7,
   "id": "5c4841a9",
   "metadata": {},
   "outputs": [
    {
     "data": {
      "text/html": [
       "<style>\n",
       ".list-inline {list-style: none; margin:0; padding: 0}\n",
       ".list-inline>li {display: inline-block}\n",
       ".list-inline>li:not(:last-child)::after {content: \"\\00b7\"; padding: 0 .5ex}\n",
       "</style>\n",
       "<ol class=list-inline><li>6.63065083793123</li><li>1.03246937599178</li><li>1.09054991955727</li><li>1.07130459507508</li></ol>\n"
      ],
      "text/latex": [
       "\\begin{enumerate*}\n",
       "\\item 6.63065083793123\n",
       "\\item 1.03246937599178\n",
       "\\item 1.09054991955727\n",
       "\\item 1.07130459507508\n",
       "\\end{enumerate*}\n"
      ],
      "text/markdown": [
       "1. 6.63065083793123\n",
       "2. 1.03246937599178\n",
       "3. 1.09054991955727\n",
       "4. 1.07130459507508\n",
       "\n",
       "\n"
      ],
      "text/plain": [
       "[1] 6.630651 1.032469 1.090550 1.071305"
      ]
     },
     "metadata": {},
     "output_type": "display_data"
    }
   ],
   "source": [
    "# c)\n",
    "\n",
    "set.seed(11)\n",
    "x = c(rnorm(100))\n",
    "y = c(x-2*x^2+rnorm(100))\n",
    "df = data.frame(x,y)\n",
    "cv.err = rep(0,4)\n",
    "for (i in 1:4){\n",
    "  lr.fit = glm(y~poly(x,degree=i,raw=TRUE))\n",
    "  cv.err[i] = cv.glm(df, lr.fit)$delta[1]\n",
    "}\n",
    "cv.err"
   ]
  },
  {
   "cell_type": "code",
   "execution_count": 8,
   "id": "574b0938",
   "metadata": {},
   "outputs": [
    {
     "data": {
      "text/html": [
       "<style>\n",
       ".list-inline {list-style: none; margin:0; padding: 0}\n",
       ".list-inline>li {display: inline-block}\n",
       ".list-inline>li:not(:last-child)::after {content: \"\\00b7\"; padding: 0 .5ex}\n",
       "</style>\n",
       "<ol class=list-inline><li>6.97521182500645</li><li>0.966467776168288</li><li>1.00001743063605</li><li>0.999321536695789</li></ol>\n"
      ],
      "text/latex": [
       "\\begin{enumerate*}\n",
       "\\item 6.97521182500645\n",
       "\\item 0.966467776168288\n",
       "\\item 1.00001743063605\n",
       "\\item 0.999321536695789\n",
       "\\end{enumerate*}\n"
      ],
      "text/markdown": [
       "1. 6.97521182500645\n",
       "2. 0.966467776168288\n",
       "3. 1.00001743063605\n",
       "4. 0.999321536695789\n",
       "\n",
       "\n"
      ],
      "text/plain": [
       "[1] 6.9752118 0.9664678 1.0000174 0.9993215"
      ]
     },
     "metadata": {},
     "output_type": "display_data"
    },
    {
     "data": {
      "image/png": "[encoded data removed]",
      "text/plain": [
       "plot without title"
      ]
     },
     "metadata": {
      "image/png": {
       "height": 420,
       "width": 420
      }
     },
     "output_type": "display_data"
    }
   ],
   "source": [
    "# d)\n",
    "\n",
    "set.seed(123)\n",
    "x = c(rnorm(100))\n",
    "y = c(x-2*x^2+rnorm(100))\n",
    "plot(x,y)\n",
    "df = data.frame(x,y)\n",
    "cv.err = rep(0,4)#\n",
    "for (i in 1:4){\n",
    "  lr.fit = glm(y~poly(x,degree=i,raw=TRUE))\n",
    "  cv.err[i] = cv.glm(df, lr.fit)$delta[1]\n",
    "}\n",
    "cv.err"
   ]
  },
  {
   "cell_type": "code",
   "execution_count": null,
   "id": "d3a93d04",
   "metadata": {},
   "outputs": [],
   "source": [
    "# e)\n",
    "# The model with the quadratic term and it was expected since the model looked qudratic in the b) step."
   ]
  },
  {
   "cell_type": "code",
   "execution_count": null,
   "id": "e24a896f",
   "metadata": {},
   "outputs": [],
   "source": [
    "# Exercise 6.1\n",
    "# a) Best subset selection is the lowest training RSS because it fits models for every possible combination of predictors. \n",
    "# b) Best subset considers more models than the other two, and the best model found on the training set could also be the best one for a test set. \n",
    "# c) True. True. False. False."
   ]
  },
  {
   "cell_type": "code",
   "execution_count": null,
   "id": "a8958b2f",
   "metadata": {},
   "outputs": [],
   "source": [
    "# Exercise 6.9"
   ]
  },
  {
   "cell_type": "code",
   "execution_count": 13,
   "id": "1490af78",
   "metadata": {},
   "outputs": [
    {
     "name": "stderr",
     "output_type": "stream",
     "text": [
      "Loading required package: Matrix\n",
      "\n",
      "Loaded glmnet 4.1-2\n",
      "\n"
     ]
    }
   ],
   "source": [
    "library(ISLR)\n",
    "library(glmnet)\n",
    "set.seed(2)\n",
    "x = model.matrix(Apps~.,College)[,-1]\n",
    "y = College$Apps\n",
    "grid = 10^seq(10,-2,length=100)\n",
    "\n",
    "train = sample(1:nrow(x), nrow(x)/1.3)\n",
    "test = (-train)\n",
    "y.test = y[test]"
   ]
  },
  {
   "cell_type": "code",
   "execution_count": 14,
   "id": "ffbf907f",
   "metadata": {},
   "outputs": [
    {
     "data": {
      "text/html": [
       "1367387.06436933"
      ],
      "text/latex": [
       "1367387.06436933"
      ],
      "text/markdown": [
       "1367387.06436933"
      ],
      "text/plain": [
       "[1] 1367387"
      ]
     },
     "metadata": {},
     "output_type": "display_data"
    }
   ],
   "source": [
    "linear.model = glmnet(x[train,], y[train], alpha=0, lambda=grid, thresh=1e-12)\n",
    "linear.pred = predict(linear.model, s=0, newx=x[test,],exact=T,x=x[train,],y=y[train])\n",
    "mean((linear.pred-y.test)^2)"
   ]
  },
  {
   "cell_type": "code",
   "execution_count": 15,
   "id": "ce802057",
   "metadata": {},
   "outputs": [],
   "source": [
    "train.df = data.frame(College[train,])\n",
    "test.df = data.frame(College[test,])"
   ]
  },
  {
   "cell_type": "code",
   "execution_count": 16,
   "id": "43910478",
   "metadata": {},
   "outputs": [
    {
     "data": {
      "text/html": [
       "1367392.57616224"
      ],
      "text/latex": [
       "1367392.57616224"
      ],
      "text/markdown": [
       "1367392.57616224"
      ],
      "text/plain": [
       "[1] 1367393"
      ]
     },
     "metadata": {},
     "output_type": "display_data"
    }
   ],
   "source": [
    "lm.fit = lm(Apps~., data=train.df)\n",
    "lm.pred = predict(lm.fit, test.df, type=c(\"response\"))\n",
    "err.lm = mean((lm.pred-test.df$Apps)^2)\n",
    "err.lm"
   ]
  },
  {
   "cell_type": "code",
   "execution_count": 17,
   "id": "bcc3cd01",
   "metadata": {},
   "outputs": [
    {
     "data": {
      "text/html": [
       "1355875.50119058"
      ],
      "text/latex": [
       "1355875.50119058"
      ],
      "text/markdown": [
       "1355875.50119058"
      ],
      "text/plain": [
       "[1] 1355876"
      ]
     },
     "metadata": {},
     "output_type": "display_data"
    }
   ],
   "source": [
    "cv.out = cv.glmnet(x[train,],y[train],alpha=0)\n",
    "bestlam = cv.out$lambda.min\n",
    "ridge.mod = glmnet(x[train,],y[train],alpha=0,lambda=grid, thresh=1e-12)\n",
    "ridge.pred = predict(ridge.mod, s=bestlam, newx=x[test,])\n",
    "err.ridge = mean((ridge.pred-y.test)^2)\n",
    "err.ridge"
   ]
  },
  {
   "cell_type": "code",
   "execution_count": null,
   "id": "42665a05",
   "metadata": {},
   "outputs": [],
   "source": [
    "# Exercise 7.9"
   ]
  },
  {
   "cell_type": "code",
   "execution_count": 21,
   "id": "dbe95b0f",
   "metadata": {},
   "outputs": [
    {
     "data": {
      "text/plain": [
       "\n",
       "Call:\n",
       "glm(formula = nox ~ poly(dis, 3), data = Boston)\n",
       "\n",
       "Deviance Residuals: \n",
       "      Min         1Q     Median         3Q        Max  \n",
       "-0.121130  -0.040619  -0.009738   0.023385   0.194904  \n",
       "\n",
       "Coefficients:\n",
       "               Estimate Std. Error t value Pr(>|t|)    \n",
       "(Intercept)    0.554695   0.002759 201.021  < 2e-16 ***\n",
       "poly(dis, 3)1 -2.003096   0.062071 -32.271  < 2e-16 ***\n",
       "poly(dis, 3)2  0.856330   0.062071  13.796  < 2e-16 ***\n",
       "poly(dis, 3)3 -0.318049   0.062071  -5.124 4.27e-07 ***\n",
       "---\n",
       "Signif. codes:  0 '***' 0.001 '**' 0.01 '*' 0.05 '.' 0.1 ' ' 1\n",
       "\n",
       "(Dispersion parameter for gaussian family taken to be 0.003852802)\n",
       "\n",
       "    Null deviance: 6.7810  on 505  degrees of freedom\n",
       "Residual deviance: 1.9341  on 502  degrees of freedom\n",
       "AIC: -1370.9\n",
       "\n",
       "Number of Fisher Scoring iterations: 2\n"
      ]
     },
     "metadata": {},
     "output_type": "display_data"
    },
    {
     "data": {
      "image/png": "[encoded data removed]",
      "text/plain": [
       "plot without title"
      ]
     },
     "metadata": {
      "image/png": {
       "height": 420,
       "width": 420
      }
     },
     "output_type": "display_data"
    }
   ],
   "source": [
    "library(MASS)\n",
    "plot(Boston$dis,Boston$nox)\n",
    "model.1 = glm(nox~poly(dis,3), data=Boston)\n",
    "summary(model.1)\n",
    "dis.grid = seq(from=min(Boston$dis),to=max(Boston$dis),0.2)\n",
    "preds=predict(model.1,newdata=list(dis=dis.grid), se=T)\n",
    "lines(dis.grid,preds$fit,col=\"red\",lwd=3)\n",
    "lines(dis.grid,preds$fit+2*preds$se,col=\"red\",lwd=3,lty=2)\n",
    "lines(dis.grid,preds$fit-2*preds$se,col=\"red\",lwd=3,lty=2)"
   ]
  }
 ],
 "metadata": {
  "kernelspec": {
   "display_name": "R",
   "language": "R",
   "name": "ir"
  },
  "language_info": {
   "codemirror_mode": "r",
   "file_extension": ".r",
   "mimetype": "text/x-r-source",
   "name": "R",
   "pygments_lexer": "r",
   "version": "4.0.5"
  }
 },
 "nbformat": 4,
 "nbformat_minor": 5
}
